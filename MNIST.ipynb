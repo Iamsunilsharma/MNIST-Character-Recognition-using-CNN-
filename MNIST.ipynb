{
 "cells": [
  {
   "cell_type": "markdown",
   "metadata": {},
   "source": [
    "# My Convolution Neural Network For MNIST Dataset "
   ]
  },
  {
   "cell_type": "markdown",
   "metadata": {},
   "source": [
    "##### To initialize all Libraries use in this model "
   ]
  },
  {
   "cell_type": "code",
   "execution_count": 1,
   "metadata": {},
   "outputs": [
    {
     "name": "stderr",
     "output_type": "stream",
     "text": [
      "Using TensorFlow backend.\n"
     ]
    }
   ],
   "source": [
    "from keras.models import Sequential\n",
    "from keras.layers import Dense, Dropout, Activation, Flatten\n",
    "from keras.layers import Convolution2D, MaxPooling2D\n",
    "from keras.layers.convolutional import Conv2D\n",
    "from keras.utils import np_utils\n",
    "from keras import backend as K\n",
    "from keras.callbacks import EarlyStopping\n",
    "from keras.callbacks import TensorBoard\n",
    "import pandas as pd\n",
    "import numpy as np\n",
    "from keras.layers.normalization import BatchNormalization\n",
    "from keras.optimizers import SGD\n",
    "from sklearn.model_selection import train_test_split\n",
    "from sklearn.metrics import recall_score\n",
    "from sklearn.metrics import precision_score\n",
    "from sklearn.utils import class_weight\n",
    "from numpy.random import RandomState\n",
    "import matplotlib.pyplot as plt\n",
    "from keras.datasets import mnist\n",
    "np.random.seed(1337)"
   ]
  },
  {
   "cell_type": "markdown",
   "metadata": {},
   "source": [
    "#### To load the data into train and test set "
   ]
  },
  {
   "cell_type": "code",
   "execution_count": 2,
   "metadata": {},
   "outputs": [],
   "source": [
    "(X_train, y_train), (X_test, y_test) = mnist.load_data()"
   ]
  },
  {
   "cell_type": "code",
   "execution_count": 3,
   "metadata": {},
   "outputs": [
    {
     "name": "stdout",
     "output_type": "stream",
     "text": [
      "The Shape of the training data is : (60000, 28, 28)\n",
      "The Shape of the testing data is : (10000, 28, 28)\n",
      "The Shape of the training labels is : (60000,)\n",
      "The Shape of the testing labels is : (10000,)\n"
     ]
    }
   ],
   "source": [
    "print(\"The Shape of the training data is :\", X_train.shape)\n",
    "print(\"The Shape of the testing data is :\", X_test.shape)\n",
    "print(\"The Shape of the training labels is :\",y_train.shape)\n",
    "print(\"The Shape of the testing labels is :\",y_test.shape)"
   ]
  },
  {
   "cell_type": "code",
   "execution_count": 4,
   "metadata": {},
   "outputs": [],
   "source": [
    "def reshape_data(arr, img_rows, img_cols, channels):\n",
    "    \n",
    "    return arr.reshape(arr.shape[0], img_rows, img_cols, channels)"
   ]
  },
  {
   "cell_type": "code",
   "execution_count": 6,
   "metadata": {},
   "outputs": [],
   "source": [
    "batch_size = 200\n",
    "nb_classes = 10\n",
    "nb_epoch = 3\n",
    "\n",
    "img_rows, img_cols = 28, 28\n",
    "channels = 1\n",
    "nb_filters = 10\n",
    "kernel_size = (4,4)"
   ]
  },
  {
   "cell_type": "markdown",
   "metadata": {},
   "source": [
    "### Reshaping data into Number_of_Images x Row_size x coloumn_size x channel_size\n",
    "#### Note : channel_size will be one here as the image is grey scale image."
   ]
  },
  {
   "cell_type": "code",
   "execution_count": 7,
   "metadata": {},
   "outputs": [
    {
     "name": "stdout",
     "output_type": "stream",
     "text": [
      "Reshaping Data\n"
     ]
    }
   ],
   "source": [
    "print(\"Reshaping Data\")\n",
    "X_train = reshape_data(X_train, img_rows, img_cols, channels)\n",
    "X_test = reshape_data(X_test, img_rows, img_cols, channels)"
   ]
  },
  {
   "cell_type": "code",
   "execution_count": 8,
   "metadata": {},
   "outputs": [
    {
     "name": "stdout",
     "output_type": "stream",
     "text": [
      "X_train Shape:  (60000, 28, 28, 1)\n",
      "X_test Shape:  (10000, 28, 28, 1)\n"
     ]
    }
   ],
   "source": [
    "print(\"X_train Shape: \", X_train.shape)\n",
    "print(\"X_test Shape: \", X_test.shape)\n"
   ]
  },
  {
   "cell_type": "code",
   "execution_count": 9,
   "metadata": {},
   "outputs": [],
   "source": [
    "input_shape = (img_rows, img_cols,channels)"
   ]
  },
  {
   "cell_type": "markdown",
   "metadata": {},
   "source": [
    "### for image normalization"
   ]
  },
  {
   "cell_type": "code",
   "execution_count": 10,
   "metadata": {},
   "outputs": [
    {
     "name": "stdout",
     "output_type": "stream",
     "text": [
      "Normalizing Data\n"
     ]
    }
   ],
   "source": [
    "print(\"Normalizing Data\")\n",
    "X_train = X_train.astype('float32')\n",
    "X_test = X_test.astype('float32')\n",
    "X_train /= 255\n",
    "X_test /= 255"
   ]
  },
  {
   "cell_type": "markdown",
   "metadata": {},
   "source": [
    "### Image Sample "
   ]
  },
  {
   "cell_type": "code",
   "execution_count": 11,
   "metadata": {},
   "outputs": [
    {
     "data": {
      "image/png": "[encoded data removed]",
      "text/plain": [
       "<Figure size 432x288 with 9 Axes>"
      ]
     },
     "metadata": {},
     "output_type": "display_data"
    }
   ],
   "source": [
    "X_test1 = X_test.reshape(X_test.shape[0],1, img_rows, img_cols)\n",
    "for i in range(9):\n",
    "    plt.subplot(3, 3, i+1)\n",
    "    plt.imshow(X_test1[i,0], cmap='gray')\n",
    "    plt.axis(\"off\")"
   ]
  },
  {
   "cell_type": "code",
   "execution_count": 12,
   "metadata": {},
   "outputs": [],
   "source": [
    "y1_test = y_test"
   ]
  },
  {
   "cell_type": "code",
   "execution_count": 13,
   "metadata": {},
   "outputs": [
    {
     "name": "stdout",
     "output_type": "stream",
     "text": [
      "y_train Shape:  (60000, 10)\n",
      "y_test Shape:  (10000, 10)\n"
     ]
    }
   ],
   "source": [
    "from keras.utils import np_utils\n",
    "y_train = np_utils.to_categorical(y_train, nb_classes)\n",
    "y_test = np_utils.to_categorical(y_test, nb_classes)\n",
    "print(\"y_train Shape: \", y_train.shape)\n",
    "print(\"y_test Shape: \", y_test.shape)"
   ]
  },
  {
   "cell_type": "markdown",
   "metadata": {},
   "source": [
    "## Model Structure"
   ]
  },
  {
   "cell_type": "code",
   "execution_count": 14,
   "metadata": {},
   "outputs": [],
   "source": [
    "def cnn_model(X_train, X_test, y_train, y_test, kernel_size, nb_filters, channels, nb_epoch, batch_size, nb_classes):\n",
    "\n",
    "    model = Sequential()\n",
    "    model.add(Conv2D(nb_filters, (kernel_size[0], kernel_size[1]),border_mode='valid',input_shape=(img_rows, img_cols,channels)))\n",
    "    model.add(Activation('relu'))\n",
    "    model.add(MaxPooling2D(pool_size=(2,2)))\n",
    "    kernel_size = (6,6)    \n",
    "    model.add(Conv2D(20, (kernel_size[0], kernel_size[1])))\n",
    "    model.add(Activation('relu'))\n",
    "    model.add(MaxPooling2D(pool_size=(2,2)))\n",
    "    model.add(Flatten())    \n",
    "    model.add(Dense(128))\n",
    "    model.add(Activation('relu'))\n",
    "    model.add(Dense(nb_classes))\n",
    "    model.add(Activation('softmax'))\n",
    "    model.compile(loss = 'categorical_crossentropy', optimizer='adadelta', metrics=['accuracy'])\n",
    "    print(model.summary())\n",
    "    model.fit(X_train,y_train, batch_size=batch_size, epochs=nb_epoch, verbose=1, validation_data=(X_test,y_test))\n",
    "\n",
    "    return model\n"
   ]
  },
  {
   "cell_type": "code",
   "execution_count": 15,
   "metadata": {},
   "outputs": [
    {
     "name": "stderr",
     "output_type": "stream",
     "text": [
      "/usr/local/lib/python3.5/site-packages/ipykernel_launcher.py:4: UserWarning: Update your `Conv2D` call to the Keras 2 API: `Conv2D(10, (4, 4), padding=\"valid\", input_shape=(28, 28, 1...)`\n",
      "  after removing the cwd from sys.path.\n"
     ]
    },
    {
     "name": "stdout",
     "output_type": "stream",
     "text": [
      "_________________________________________________________________\n",
      "Layer (type)                 Output Shape              Param #   \n",
      "=================================================================\n",
      "conv2d_1 (Conv2D)            (None, 25, 25, 10)        170       \n",
      "_________________________________________________________________\n",
      "activation_1 (Activation)    (None, 25, 25, 10)        0         \n",
      "_________________________________________________________________\n",
      "max_pooling2d_1 (MaxPooling2 (None, 12, 12, 10)        0         \n",
      "_________________________________________________________________\n",
      "conv2d_2 (Conv2D)            (None, 7, 7, 20)          7220      \n",
      "_________________________________________________________________\n",
      "activation_2 (Activation)    (None, 7, 7, 20)          0         \n",
      "_________________________________________________________________\n",
      "max_pooling2d_2 (MaxPooling2 (None, 3, 3, 20)          0         \n",
      "_________________________________________________________________\n",
      "flatten_1 (Flatten)          (None, 180)               0         \n",
      "_________________________________________________________________\n",
      "dense_1 (Dense)              (None, 128)               23168     \n",
      "_________________________________________________________________\n",
      "activation_3 (Activation)    (None, 128)               0         \n",
      "_________________________________________________________________\n",
      "dense_2 (Dense)              (None, 10)                1290      \n",
      "_________________________________________________________________\n",
      "activation_4 (Activation)    (None, 10)                0         \n",
      "=================================================================\n",
      "Total params: 31,848\n",
      "Trainable params: 31,848\n",
      "Non-trainable params: 0\n",
      "_________________________________________________________________\n",
      "None\n",
      "Train on 60000 samples, validate on 10000 samples\n",
      "Epoch 1/3\n",
      "60000/60000 [==============================] - 102s 2ms/step - loss: 0.3826 - acc: 0.8847 - val_loss: 0.1216 - val_acc: 0.9652\n",
      "Epoch 2/3\n",
      "60000/60000 [==============================] - 95s 2ms/step - loss: 0.1029 - acc: 0.9690 - val_loss: 0.0672 - val_acc: 0.9799\n",
      "Epoch 3/3\n",
      "60000/60000 [==============================] - 95s 2ms/step - loss: 0.0722 - acc: 0.9782 - val_loss: 0.0658 - val_acc: 0.9795\n",
      "Predicting\n",
      "Test score: 0.06580647033993155\n",
      "Test accuracy: 0.9795\n"
     ]
    }
   ],
   "source": [
    "model = cnn_model(X_train, X_test, y_train, y_test, kernel_size, nb_filters, channels, nb_epoch, batch_size, nb_classes)\n",
    "print(\"Predicting\")\n",
    "y_pred = model.predict(X_test)\n",
    "score = model.evaluate(X_test, y_test, verbose=0)\n",
    "print('Test score:', score[0])\n",
    "print('Test accuracy:', score[1])\n",
    "y1_pred = model.predict_classes(X_test)"
   ]
  },
  {
   "cell_type": "markdown",
   "metadata": {},
   "source": [
    "## Confusion Matrix"
   ]
  },
  {
   "cell_type": "code",
   "execution_count": 16,
   "metadata": {},
   "outputs": [
    {
     "name": "stdout",
     "output_type": "stream",
     "text": [
      "Confusion matrix, without normalization\n",
      "[[ 975    2    0    0    1    0    1    1    0    0]\n",
      " [   0 1131    1    0    0    1    1    0    1    0]\n",
      " [   6    1 1021    0    2    0    0    1    1    0]\n",
      " [   3    0   14  964    0   12    0    6    8    3]\n",
      " [   1    0    1    0  978    0    1    0    0    1]\n",
      " [   4    0    0    3    1  875    3    1    4    1]\n",
      " [  11    3    1    0    5    1  937    0    0    0]\n",
      " [   1    5   19    1    2    0    0  989    0   11]\n",
      " [   9    1    3    0    3    0    1    3  949    5]\n",
      " [   5    3    1    2   11    2    1    6    2  976]]\n",
      "Normalized confusion matrix\n",
      "[[9.9489795918e-01 2.0408163265e-03 0.0000000000e+00 0.0000000000e+00\n",
      "  1.0204081633e-03 0.0000000000e+00 1.0204081633e-03 1.0204081633e-03\n",
      "  0.0000000000e+00 0.0000000000e+00]\n",
      " [0.0000000000e+00 9.9647577093e-01 8.8105726872e-04 0.0000000000e+00\n",
      "  0.0000000000e+00 8.8105726872e-04 8.8105726872e-04 0.0000000000e+00\n",
      "  8.8105726872e-04 0.0000000000e+00]\n",
      " [5.8139534884e-03 9.6899224806e-04 9.8934108527e-01 0.0000000000e+00\n",
      "  1.9379844961e-03 0.0000000000e+00 0.0000000000e+00 9.6899224806e-04\n",
      "  9.6899224806e-04 0.0000000000e+00]\n",
      " [2.9702970297e-03 0.0000000000e+00 1.3861386139e-02 9.5445544554e-01\n",
      "  0.0000000000e+00 1.1881188119e-02 0.0000000000e+00 5.9405940594e-03\n",
      "  7.9207920792e-03 2.9702970297e-03]\n",
      " [1.0183299389e-03 0.0000000000e+00 1.0183299389e-03 0.0000000000e+00\n",
      "  9.9592668024e-01 0.0000000000e+00 1.0183299389e-03 0.0000000000e+00\n",
      "  0.0000000000e+00 1.0183299389e-03]\n",
      " [4.4843049327e-03 0.0000000000e+00 0.0000000000e+00 3.3632286996e-03\n",
      "  1.1210762332e-03 9.8094170404e-01 3.3632286996e-03 1.1210762332e-03\n",
      "  4.4843049327e-03 1.1210762332e-03]\n",
      " [1.1482254697e-02 3.1315240084e-03 1.0438413361e-03 0.0000000000e+00\n",
      "  5.2192066806e-03 1.0438413361e-03 9.7807933194e-01 0.0000000000e+00\n",
      "  0.0000000000e+00 0.0000000000e+00]\n",
      " [9.7276264591e-04 4.8638132296e-03 1.8482490272e-02 9.7276264591e-04\n",
      "  1.9455252918e-03 0.0000000000e+00 0.0000000000e+00 9.6206225681e-01\n",
      "  0.0000000000e+00 1.0700389105e-02]\n",
      " [9.2402464066e-03 1.0266940452e-03 3.0800821355e-03 0.0000000000e+00\n",
      "  3.0800821355e-03 0.0000000000e+00 1.0266940452e-03 3.0800821355e-03\n",
      "  9.7433264887e-01 5.1334702259e-03]\n",
      " [4.9554013875e-03 2.9732408325e-03 9.9108027750e-04 1.9821605550e-03\n",
      "  1.0901883053e-02 1.9821605550e-03 9.9108027750e-04 5.9464816650e-03\n",
      "  1.9821605550e-03 9.6729435084e-01]]\n"
     ]
    },
    {
     "data": {
      "image/png": "[encoded data removed]",
      "text/plain": [
       "<Figure size 432x288 with 2 Axes>"
      ]
     },
     "metadata": {},
     "output_type": "display_data"
    },
    {
     "data": {
      "image/png": "[encoded data removed]",
      "text/plain": [
       "<Figure size 432x288 with 2 Axes>"
      ]
     },
     "metadata": {},
     "output_type": "display_data"
    }
   ],
   "source": [
    "from sklearn.metrics import confusion_matrix\n",
    "import itertools\n",
    "\n",
    "def plot_confusion_matrix(cm, classes,\n",
    "                          normalize=False,\n",
    "                          title='Confusion matrix',\n",
    "                          cmap=plt.cm.Blues):\n",
    "    \"\"\"\n",
    "    This function prints and plots the confusion matrix.\n",
    "    Normalization can be applied by setting `normalize=True`.\n",
    "    \"\"\"\n",
    "    if normalize:\n",
    "        cm = cm.astype('float') / cm.sum(axis=1)[:, np.newaxis]\n",
    "        print(\"Normalized confusion matrix\")\n",
    "    else:\n",
    "        print('Confusion matrix, without normalization')\n",
    "\n",
    "    print(cm)\n",
    "\n",
    "    plt.imshow(cm, interpolation='nearest', cmap=cmap)\n",
    "    plt.title(title)\n",
    "    plt.colorbar()\n",
    "    tick_marks = np.arange(len(classes))\n",
    "    plt.xticks(tick_marks, classes, rotation=45)\n",
    "    plt.yticks(tick_marks, classes)\n",
    "\n",
    "    fmt = '.2f' if normalize else 'd'\n",
    "    thresh = cm.max() / 2.\n",
    "    for i, j in itertools.product(range(cm.shape[0]), range(cm.shape[1])):\n",
    "        plt.text(j, i, format(cm[i, j], fmt),\n",
    "                 horizontalalignment=\"center\",\n",
    "                 color=\"white\" if cm[i, j] > thresh else \"black\")\n",
    "\n",
    "    plt.tight_layout()\n",
    "    plt.ylabel('True label')\n",
    "    plt.xlabel('Predicted label')\n",
    "#method to print confusion metrix\n",
    "\n",
    "\n",
    "\n",
    "cm = confusion_matrix(y1_test,y1_pred)\n",
    "np.set_printoptions(precision=10)\n",
    "\n",
    "cm_plot_labels = ['0','1','2','3','4','5','6','7','8','9']\n",
    "\n",
    "\n",
    "# Plot non-normalized confusion matrix\n",
    "plt.figure()\n",
    "plot_confusion_matrix(cm, classes=cm_plot_labels, title='Confusion matrix, without normalization')\n",
    "\n",
    "# Plot normalized confusion matrix\n",
    "plt.figure()\n",
    "plot_confusion_matrix(cm, classes=cm_plot_labels , normalize=True, title='Normalized confusion matrix')\n",
    "plt.show()"
   ]
  },
  {
   "cell_type": "code",
   "execution_count": 17,
   "metadata": {
    "scrolled": true
   },
   "outputs": [
    {
     "name": "stdout",
     "output_type": "stream",
     "text": [
      "[18, 247, 259, 290, 320, 359]\n",
      "3 8\n",
      "[0, 1, 2, 3, 4, 5]\n",
      "7 7\n"
     ]
    }
   ],
   "source": [
    "same=[]\n",
    "different=[]\n",
    "m=np.size(y1_test)\n",
    "for i in range (0,m):\n",
    "    if(y1_test[i]==y1_pred[i]):\n",
    "        same.append(i)\n",
    "    else:\n",
    "        different.append(i)\n",
    "        \n",
    "error=different[0:6]\n",
    "correct=same[0:6]\n",
    "print(error)\n",
    "print(y1_test[error[0]],y1_pred[error[0]])\n",
    "print(correct)\n",
    "print(y1_test[correct[0]],y1_pred[correct[0]])"
   ]
  },
  {
   "cell_type": "markdown",
   "metadata": {},
   "source": [
    "## To print 6 Wrongly classified Images "
   ]
  },
  {
   "cell_type": "code",
   "execution_count": 19,
   "metadata": {},
   "outputs": [
    {
     "data": {
      "image/png": "[encoded data removed]",
      "text/plain": [
       "<Figure size 432x432 with 6 Axes>"
      ]
     },
     "metadata": {},
     "output_type": "display_data"
    }
   ],
   "source": [
    "plt.figure(figsize=(6, 6))\n",
    "\n",
    "for i in range(6):\n",
    "    plt.subplot(3, 3, i+1)\n",
    "    plt.imshow(X_test1[error[i],0], cmap='gray')\n",
    "    plt.gca().get_xaxis().set_ticks([])\n",
    "    plt.gca().get_yaxis().set_ticks([])\n",
    "    plt.ylabel(\"prediction = %d\" % y1_pred[error[i]], fontsize = 10)\n",
    "    plt.xlabel(\"Actual = %d\" % y1_test[error[i]], fontsize = 10)"
   ]
  },
  {
   "cell_type": "markdown",
   "metadata": {},
   "source": [
    "## To print 6 Correclty Classified Images"
   ]
  },
  {
   "cell_type": "code",
   "execution_count": 20,
   "metadata": {},
   "outputs": [
    {
     "data": {
      "image/png": "[encoded data removed]",
      "text/plain": [
       "<Figure size 432x432 with 6 Axes>"
      ]
     },
     "metadata": {},
     "output_type": "display_data"
    }
   ],
   "source": [
    "plt.figure(figsize=(6, 6))\n",
    "\n",
    "for i in range(6):\n",
    "    plt.subplot(3, 3, i+1)\n",
    "    plt.imshow(X_test1[correct[i],0], cmap='gray')\n",
    "    plt.gca().get_xaxis().set_ticks([])\n",
    "    plt.gca().get_yaxis().set_ticks([])\n",
    "    plt.ylabel(\"prediction = %d\" % y1_pred[correct[i]], fontsize = 10)\n",
    "    plt.xlabel(\"Actual = %d\" % y1_test[correct[i]], fontsize = 10)"
   ]
  }
 ],
 "metadata": {
  "kernelspec": {
   "display_name": "Python 3",
   "language": "python",
   "name": "python3"
  },
  "language_info": {
   "codemirror_mode": {
    "name": "ipython",
    "version": 3
   },
   "file_extension": ".py",
   "mimetype": "text/x-python",
   "name": "python",
   "nbconvert_exporter": "python",
   "pygments_lexer": "ipython3",
   "version": "3.5.5"
  }
 },
 "nbformat": 4,
 "nbformat_minor": 2
}
